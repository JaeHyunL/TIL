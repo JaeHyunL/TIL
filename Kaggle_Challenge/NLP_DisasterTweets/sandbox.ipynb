{
 "cells": [
  {
   "cell_type": "code",
   "execution_count": 14,
   "metadata": {},
   "outputs": [],
   "source": [
    "import pandas as pd\n",
    "import numpy as np\n",
    "\n",
    "\n",
    "train = pd.read_csv('data/train.csv', encoding='utf8')\n",
    "test = pd.read_csv('data/test.csv')"
   ]
  },
  {
   "cell_type": "code",
   "execution_count": null,
   "metadata": {},
   "outputs": [
    {
     "name": "stdout",
     "output_type": "stream",
     "text": [
      "0\n",
      "61\n",
      "2533\n",
      "0\n",
      "0\n",
      "Index(['id', 'keyword', 'location', 'text', 'target'], dtype='object')\n",
      "Index(['id', 'keyword', 'location', 'text'], dtype='object')\n"
     ]
    }
   ],
   "source": [
    "HEADER = train.columns\n",
    "for header in HEADER:\n",
    "\n",
    "    print(train[header].isnull().sum())\n",
    "\n",
    "text_list = train['text'].to_list()\n",
    "train['keyword'].value_counts()\n",
    "print(train.columns)\n",
    "print(test.columns)"
   ]
  },
  {
   "cell_type": "code",
   "execution_count": null,
   "metadata": {},
   "outputs": [
    {
     "name": "stdout",
     "output_type": "stream",
     "text": [
      "0.7556675062972292\n"
     ]
    }
   ],
   "source": [
    "from sklearn.linear_model import LogisticRegression\n",
    "from sklearn.model_selection import train_test_split\n",
    "from catboost import CatBoostClassifier\n",
    "from xgboost import XGBClassifier\n",
    "from sklearn.svm import SVC\n",
    "from sklearn.neighbors import KNeighborsClassifier\n",
    "from lightgbm import LGBMClassifier\n",
    "from sklearn.ensemble import StackingClassifier, GradientBoostingClassifier, VotingClassifier\n",
    "from sklearn.metrics import f1_score\n",
    "from sklearn.feature_extraction.text import TfidfVectorizer\n",
    "import gensim.downloader as api\n",
    "import numpy as np\n",
    "\n",
    "\n",
    "\n",
    "X = train['text']     # 텍스트 컬럼\n",
    "y = train['target']   # 정답 (0 또는 1)\n",
    "# Word2Vec 모델 다시 로딩 및 텍스트 벡터화 재실행\n",
    "\n",
    "# Word2Vec 사전학습 모델 로딩\n",
    "word2vec_model = api.load(\"word2vec-google-news-300\")\n",
    "\n",
    "# 평균 벡터 임베딩 함수\n",
    "def get_average_word2vec(text, model, vector_size=300):\n",
    "    words = text.split()\n",
    "    valid_words = [w for w in words if w in model]\n",
    "    if not valid_words:\n",
    "        return np.zeros(vector_size)\n",
    "    return np.mean([model[w] for w in valid_words], axis=0)\n",
    "\n",
    "# 텍스트 벡터화\n",
    "X_vec = np.vstack([get_average_word2vec(text, word2vec_model) for text in X])\n",
    "\n",
    "# 학습/검증 분할 및 VotingClassifier 재실행\n",
    "X_train, X_val, y_train, y_val = train_test_split(X_vec, y, test_size=0.2, random_state=42)\n",
    "\n",
    "from sklearn.linear_model import LogisticRegression\n",
    "from sklearn.svm import SVC\n",
    "from sklearn.ensemble import RandomForestClassifier, VotingClassifier\n",
    "\n",
    "# 실행 가능한 모델로 Voting 구성\n",
    "lr_model = LogisticRegression(max_iter=1000)\n",
    "svc_model = SVC(probability=True)\n",
    "rf_model = RandomForestClassifier(n_estimators=100)\n",
    "\n",
    "estimators = [\n",
    "    ('lr', lr_model),\n",
    "    ('svc', svc_model),\n",
    "    ('rf', rf_model)\n",
    "]\n",
    "\n",
    "voting_model = VotingClassifier(estimators=estimators, voting='soft')\n",
    "voting_model.fit(X_train, y_train)\n",
    "y_pred = voting_model.predict(X_val)\n",
    "f1 = f1_score(y_val, y_pred)\n",
    "# ====== ROUND1 ===========\n",
    "# Stacking 앙상블 기법사용시.\n",
    "# 📊 F1 Score: 0.7044\n",
    "# ====== ROUND2 ===========\n",
    "# VotingClassifier 앙상블 기법사용시.\n",
    "# 📊 F1 Score: 0.6951\n",
    "# ====== ROUND3 ===========\n",
    "# VotingClassifier + word2vec_model Encoding\n",
    "# 📊 F1 Score: 0.7556675062972292\n",
    "\n",
    "print(f1)"
   ]
  },
  {
   "cell_type": "code",
   "execution_count": 125,
   "metadata": {},
   "outputs": [],
   "source": [
    "import pandas as pd\n",
    "import numpy as np\n",
    "\n",
    "# 테스트 데이터 불러오기\n",
    "test_df = pd.read_csv(\"data/test.csv\")\n",
    "X_test = test_df['text'].fillna(\"\")\n",
    "\n",
    "# Word2Vec 평균 벡터 함수 (이미 로드된 모델 기준)\n",
    "def get_average_word2vec(text, model, vector_size=300):\n",
    "    words = text.split()\n",
    "    valid_words = [w for w in words if w in model]\n",
    "    if not valid_words:\n",
    "        return np.zeros(vector_size)\n",
    "    return np.mean([model[w] for w in valid_words], axis=0)\n",
    "\n",
    "# 테스트 데이터를 벡터로 변환\n",
    "X_test_vec = np.vstack([get_average_word2vec(text, word2vec_model) for text in X_test])\n",
    "\n",
    "# 예측\n",
    "test_preds = voting_model.predict(X_test_vec)\n",
    "\n",
    "# 제출 파일 생성\n",
    "submission = pd.DataFrame({\n",
    "    'id': test_df['id'],\n",
    "    'target': test_preds\n",
    "})\n",
    "\n",
    "submission.to_csv(\"submission.csv\", index=False)\n"
   ]
  }
 ],
 "metadata": {
  "kernelspec": {
   "display_name": ".venv",
   "language": "python",
   "name": "python3"
  },
  "language_info": {
   "codemirror_mode": {
    "name": "ipython",
    "version": 3
   },
   "file_extension": ".py",
   "mimetype": "text/x-python",
   "name": "python",
   "nbconvert_exporter": "python",
   "pygments_lexer": "ipython3",
   "version": "3.10.12"
  }
 },
 "nbformat": 4,
 "nbformat_minor": 2
}
