{
 "cells": [
  {
   "cell_type": "code",
   "execution_count": 14,
   "metadata": {},
   "outputs": [],
   "source": [
    "import pandas as pd\n",
    "import numpy as np\n",
    "\n",
    "\n",
    "train = pd.read_csv('data/train.csv', encoding='utf8')\n",
    "test = pd.read_csv('data/test.csv')"
   ]
  },
  {
   "cell_type": "code",
   "execution_count": null,
   "metadata": {},
   "outputs": [
    {
     "name": "stdout",
     "output_type": "stream",
     "text": [
      "0\n",
      "61\n",
      "2533\n",
      "0\n",
      "0\n",
      "Index(['id', 'keyword', 'location', 'text', 'target'], dtype='object')\n",
      "Index(['id', 'keyword', 'location', 'text'], dtype='object')\n"
     ]
    }
   ],
   "source": [
    "HEADER = train.columns\n",
    "for header in HEADER:\n",
    "\n",
    "    print(train[header].isnull().sum())\n",
    "\n",
    "text_list = train['text'].to_list()\n",
    "train['keyword'].value_counts()\n",
    "print(train.columns)\n",
    "print(test.columns)"
   ]
  },
  {
   "cell_type": "code",
   "execution_count": null,
   "metadata": {},
   "outputs": [
    {
     "name": "stdout",
     "output_type": "stream",
     "text": [
      "[LightGBM] [Info] Number of positive: 1972, number of negative: 2595\n",
      "[LightGBM] [Info] Auto-choosing row-wise multi-threading, the overhead of testing was 0.002508 seconds.\n",
      "You can set `force_row_wise=true` to remove the overhead.\n",
      "And if memory is not enough, you can set `force_col_wise=true`.\n",
      "[LightGBM] [Info] Total Bins 4465\n",
      "[LightGBM] [Info] Number of data points in the train set: 4567, number of used features: 363\n",
      "[LightGBM] [Info] [binary:BoostFromScore]: pavg=0.431793 -> initscore=-0.274538\n",
      "[LightGBM] [Info] Start training from score -0.274538\n",
      "📊 F1 Score: 0.6971\n"
     ]
    },
    {
     "name": "stderr",
     "output_type": "stream",
     "text": [
      "/mnt/d/workspace/TIL/.venv/lib/python3.10/site-packages/sklearn/utils/validation.py:2739: UserWarning: X does not have valid feature names, but LGBMClassifier was fitted with feature names\n",
      "  warnings.warn(\n"
     ]
    }
   ],
   "source": [
    "from sklearn.linear_model import LogisticRegression\n",
    "from sklearn.model_selection import train_test_split\n",
    "from catboost import CatBoostClassifier\n",
    "from xgboost import XGBClassifier\n",
    "from sklearn.svm import SVC\n",
    "from sklearn.neighbors import KNeighborsClassifier\n",
    "from lightgbm import LGBMClassifier\n",
    "from sklearn.ensemble import StackingClassifier, GradientBoostingClassifier, VotingClassifier\n",
    "from sklearn.metrics import f1_score\n",
    "from sklearn.feature_extraction.text import TfidfVectorizer\n",
    "\n",
    "\n",
    "\n",
    "X = train['text']     # 텍스트 컬럼\n",
    "y = train['target']   # 정답 (0 또는 1)\n",
    "\n",
    "vectorizer = TfidfVectorizer(stop_words='english', max_features=500)\n",
    "\n",
    "X_train, X_val, y_train, y_val = train_test_split(X, y, test_size=0.2, random_state=42)\n",
    "X_train_tfidf = vectorizer.fit_transform(X_train)\n",
    "X_val_tfidf = vectorizer.transform(X_val)\n",
    "\n",
    "X_train, X_test, y_train, y_test = train_test_split(X_train_tfidf, y_train)\n",
    "\n",
    "# model = LogisticRegression()\n",
    "\n",
    "cat_model = CatBoostClassifier(iterations=500, learning_rate=0.04, depth=5, verbose=0, early_stopping_rounds=50)\n",
    "xgb_model = XGBClassifier(n_estimators=500, learning_rate=0.04, max_depth=3, eval_metric='auc')\n",
    "svm_model = SVC(probability=True, kernel='rbf', C=1.0)\n",
    "knn_model = KNeighborsClassifier(n_neighbors=5)\n",
    "lgbm_model = LGBMClassifier(objective='binary', metric='auc')\n",
    "\n",
    "estimators = [\n",
    "    ('cat', cat_model),\n",
    "    ('lgbm', lgbm_model),\n",
    "    ('xgb', xgb_model)\n",
    "]\n",
    "\n",
    "# model = StackingClassifier(estimators=estimators, final_estimator=GradientBoostingClassifier(n_estimators=100))\n",
    "model = VotingClassifier(estimators=estimators, voting='soft')\n",
    "# model = LogisticRegression()\n",
    "\n",
    "model.fit(X_train, y_train)\n",
    "y_pred = model.predict(X_val_tfidf)\n",
    "\n",
    "f1 = f1_score(y_val, y_pred)\n",
    "\n",
    "print(\"📊 F1 Score:\", round(f1, 4))\n",
    "# ====== ROUND1 ===========\n",
    "# Stacking 앙상블 기법사용시.\n",
    "# 📊 F1 Score: 0.7044\n",
    "# ====== ROUND2 ===========\n",
    "# VotingClassifier 앙상블 기법사용시.\n",
    "# 📊 F1 Score: 0.6951\n"
   ]
  },
  {
   "cell_type": "code",
   "execution_count": 79,
   "metadata": {},
   "outputs": [
    {
     "name": "stderr",
     "output_type": "stream",
     "text": [
      "/mnt/d/workspace/TIL/.venv/lib/python3.10/site-packages/sklearn/utils/validation.py:2739: UserWarning: X does not have valid feature names, but LGBMClassifier was fitted with feature names\n",
      "  warnings.warn(\n"
     ]
    }
   ],
   "source": [
    "test_df = pd.read_csv(\"data/test.csv\")\n",
    "X_test = test_df['text']\n",
    "X_test_tfidf = vectorizer.transform(X_test)   # fit 말고 transform!\n",
    "\n",
    "preds = model.predict(X_test_tfidf)\n",
    "\n",
    "submission = pd.DataFrame({\n",
    "    'id': test_df['id'],\n",
    "    'target': preds\n",
    "})\n",
    "\n",
    "submission.to_csv(\"submission.csv\", index=False)\n"
   ]
  }
 ],
 "metadata": {
  "kernelspec": {
   "display_name": ".venv",
   "language": "python",
   "name": "python3"
  },
  "language_info": {
   "codemirror_mode": {
    "name": "ipython",
    "version": 3
   },
   "file_extension": ".py",
   "mimetype": "text/x-python",
   "name": "python",
   "nbconvert_exporter": "python",
   "pygments_lexer": "ipython3",
   "version": "3.10.12"
  }
 },
 "nbformat": 4,
 "nbformat_minor": 2
}
