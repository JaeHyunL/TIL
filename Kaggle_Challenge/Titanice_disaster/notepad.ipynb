{
 "cells": [
  {
   "cell_type": "markdown",
   "metadata": {},
   "source": [
    "# 타이타닉 머신러닝 재난.\n",
    "\n",
    "데이터 세트를 기반으로 승객이 생존할 수 있는지 없는지 여부 확인하기"
   ]
  },
  {
   "cell_type": "markdown",
   "metadata": {},
   "source": [
    "### Data 로드"
   ]
  },
  {
   "cell_type": "code",
   "execution_count": 1,
   "metadata": {},
   "outputs": [],
   "source": [
    "import pandas as pd\n",
    "\n",
    "test_df = pd.read_csv('test.csv')\n",
    "train_df = pd.read_csv('train.csv')"
   ]
  },
  {
   "cell_type": "code",
   "execution_count": null,
   "metadata": {},
   "outputs": [
    {
     "name": "stdout",
     "output_type": "stream",
     "text": [
      "Index(['PassengerId', 'Survived', 'Pclass', 'Name', 'Sex', 'Age', 'SibSp',\n",
      "       'Parch', 'Ticket', 'Fare', 'Cabin', 'Embarked'],\n",
      "      dtype='object')\n",
      "   PassengerId  Survived  Pclass  \\\n",
      "0            1         0       3   \n",
      "1            2         1       1   \n",
      "2            3         1       3   \n",
      "3            4         1       1   \n",
      "4            5         0       3   \n",
      "\n",
      "                                                Name     Sex   Age  SibSp  \\\n",
      "0                            Braund, Mr. Owen Harris    male  22.0      1   \n",
      "1  Cumings, Mrs. John Bradley (Florence Briggs Th...  female  38.0      1   \n",
      "2                             Heikkinen, Miss. Laina  female  26.0      0   \n",
      "3       Futrelle, Mrs. Jacques Heath (Lily May Peel)  female  35.0      1   \n",
      "4                           Allen, Mr. William Henry    male  35.0      0   \n",
      "\n",
      "   Parch            Ticket     Fare Cabin Embarked  \n",
      "0      0         A/5 21171   7.2500   NaN        S  \n",
      "1      0          PC 17599  71.2833   C85        C  \n",
      "2      0  STON/O2. 3101282   7.9250   NaN        S  \n",
      "3      0            113803  53.1000  C123        S  \n",
      "4      0            373450   8.0500   NaN        S  \n",
      "-----------------Survived-------------------\n",
      "Survived\n",
      "0    549\n",
      "1    342\n",
      "Name: count, dtype: int64\n",
      "-----------------Pclass-------------------\n",
      "Pclass\n",
      "3    491\n",
      "1    216\n",
      "2    184\n",
      "Name: count, dtype: int64\n",
      "-----------------Sex-------------------\n",
      "Sex\n",
      "male      577\n",
      "female    314\n",
      "Name: count, dtype: int64\n",
      "-----------------SibSp-------------------\n",
      "SibSp\n",
      "0    608\n",
      "1    209\n",
      "2     28\n",
      "4     18\n",
      "3     16\n",
      "8      7\n",
      "5      5\n",
      "Name: count, dtype: int64\n",
      "-----------------parch-------------------\n",
      "Parch\n",
      "0    678\n",
      "1    118\n",
      "2     80\n",
      "5      5\n",
      "3      5\n",
      "4      4\n",
      "6      1\n",
      "Name: count, dtype: int64\n",
      "Sex\n",
      "female    0.742038\n",
      "male      0.188908\n",
      "Name: count, dtype: float64\n"
     ]
    }
   ],
   "source": [
    "print(train_df.columns)\n",
    "# PassengerID  승객수 탑승 인덱스\n",
    "# Survied  생존여부 0:사망 1:생존\n",
    "# Pclass 티켓 틍급\n",
    "# Name  이름 (이건 미신아닌가?)\n",
    "# Sex  성별\n",
    "# Age 나이\n",
    "# SibSp 동승한 형제자매 또는 배우자 수 (비슷한 연령대겟지?)\n",
    "# parch 탑승한 부모 자녀 수 (나이차이 많이나겟지?)\n",
    "# Ticket (티켓 넘버.. 이거는 어따스라고? 암살 의혹?)\n",
    "# Fare 요금\n",
    "# Cabin 객실번호\n",
    "# Embarked  출발항구 C (cherbourg), Q (queenstown), S (southampton)\n",
    "print(train_df.head(5))\n",
    "\n",
    "# 분포 비율 확인\n",
    "print('-----------------Survived-------------------')\n",
    "print(train_df['Survived'].value_counts())\n",
    "print('-----------------Pclass-------------------')\n",
    "print(train_df['Pclass'].value_counts())\n",
    "print('-----------------Sex-------------------')\n",
    "print(train_df['Sex'].value_counts())\n",
    "\n",
    "# 대부분 혼자 탓네\n",
    "print('-----------------SibSp-------------------')\n",
    "print(train_df['SibSp'].value_counts())\n",
    "print('-----------------parch-------------------')\n",
    "print(train_df['Parch'].value_counts())\n",
    "\n",
    "\n",
    "# 성별 생존자  상관관계1)\n",
    "survied_df = train_df[train_df['Survived'] == 1 ]\n",
    "print(survied_df['Sex'].value_counts().sort_index() / train_df['Sex'].value_counts().sort_index() )\n",
    "\n"
   ]
  },
  {
   "cell_type": "markdown",
   "metadata": {},
   "source": [
    "### 데이터 분석"
   ]
  },
  {
   "cell_type": "code",
   "execution_count": 3,
   "metadata": {},
   "outputs": [
    {
     "data": {
      "image/png": "[encoded data removed]",
      "text/plain": [
       "<Figure size 640x480 with 3 Axes>"
      ]
     },
     "metadata": {},
     "output_type": "display_data"
    }
   ],
   "source": [
    "import matplotlib.pyplot as plt\n",
    "\n",
    "fig, ax = plt.subplots(3, 1)\n",
    "\n",
    "ax[0].set_title(\"Survived\")\n",
    "ax[0].bar(['0', '1'], train_df['Survived'].value_counts().sort_index())\n",
    "\n",
    "ax[1].set_title(\"Ticket\")\n",
    "ax[1].bar(['1', '2', '3'], train_df['Pclass'].value_counts())\n",
    "\n",
    "ax[2].set_title(\"Age\")\n",
    "ax[2].hist(train_df['Age'])\n",
    "\n",
    "plt.tight_layout()\n",
    "plt.show()\n",
    "\n",
    "\n",
    "# fig, ax = plt.subplots(3, 1)\n",
    "# plt.tight_layout()\n",
    "# plt.show()\n",
    "# ax[0].scatter(train_df['Survived'], train_df['Sex'])\n"
   ]
  }
 ],
 "metadata": {
  "kernelspec": {
   "display_name": ".venv",
   "language": "python",
   "name": "python3"
  },
  "language_info": {
   "codemirror_mode": {
    "name": "ipython",
    "version": 3
   },
   "file_extension": ".py",
   "mimetype": "text/x-python",
   "name": "python",
   "nbconvert_exporter": "python",
   "pygments_lexer": "ipython3",
   "version": "3.10.12"
  }
 },
 "nbformat": 4,
 "nbformat_minor": 2
}
